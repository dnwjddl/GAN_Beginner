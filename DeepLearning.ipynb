{
 "cells": [
  {
   "cell_type": "code",
   "execution_count": 1,
   "metadata": {},
   "outputs": [
    {
     "name": "stderr",
     "output_type": "stream",
     "text": [
      "Using TensorFlow backend.\n"
     ]
    }
   ],
   "source": [
    "from keras.utils import to_categorical\n",
    "from keras.datasets import cifar10"
   ]
  },
  {
   "cell_type": "code",
   "execution_count": 3,
   "metadata": {},
   "outputs": [],
   "source": [
    "#cifar10 dataset [갯수, H, W, C] 구성\n",
    "(x_train, y_train),(x_test, y_test) = cifar10.load_data()"
   ]
  },
  {
   "cell_type": "code",
   "execution_count": 4,
   "metadata": {},
   "outputs": [],
   "source": [
    "NUM_CLASSES=10\n",
    "\n",
    "#이미지 정규화\n",
    "x_train = x_train.astype('float32')/255.\n",
    "x_test = x_test.astype('float32')/255.\n",
    "\n",
    "#원핫인코딩벡터로 변환\n",
    "y_train = to_categorical(y_train, NUM_CLASSES)\n",
    "y_test = to_categorical(y_test, NUM_CLASSES)"
   ]
  },
  {
   "cell_type": "markdown",
   "metadata": {},
   "source": [
    "### keras의 신경망 구조 정의 2가지 방법\n",
    "#### Sequential 모델\n",
    "- 일렬로 층을 쌓은 네트워크\n",
    "```python\n",
    "from keras.models import Sequential\n",
    "from keras.layers import Flatten, Dense\n",
    "model= Sequential([\n",
    "    Dense(200, activation = 'relu', input_shape=(32, 32, 3)),\n",
    "    Flatten(),\n",
    "    Dense(150, activation = 'relu'),\n",
    "    Dense(10, activation = 'softmax')\n",
    "])\n",
    "```\n",
    "\n",
    "#### 함수형 API\n",
    "- 가지가 있는 네트워크\n",
    "\n",
    "```python\n",
    "from keras.layers import Input, Flatten, Dense\n",
    "from keras.models import Model\n",
    "\n",
    "input_layer= Input(shape=(32,32,3))\n",
    "x= Flatten()(input_layer)\n",
    "x= Dense(units=200, activation='relu')(x)\n",
    "x=Dense(units=150, activation= 'relu')(x)\n",
    "output_layer= Dense(units=10, activation = 'softmax')(x)\n",
    "model= Model(input_layer , output_layer)\n",
    "```"
   ]
  },
  {
   "cell_type": "markdown",
   "metadata": {},
   "source": [
    "- INPUT: 튜플로 넣어줘야함\n",
    "(cf.ToTensor() : pytorch)\n",
    "- Flatten: 하나의 벡터(DENSE 해주기 위함)\n",
    "- Dense: full-connected되는 유닛(연결마다 가중치 동반)\n",
    "\n",
    "```python\n",
    "model.summary()\n",
    "```"
   ]
  },
  {
   "cell_type": "code",
   "execution_count": 5,
   "metadata": {},
   "outputs": [],
   "source": [
    "from keras.models import Sequential\n",
    "from keras.layers import Flatten, Dense\n",
    "\n",
    "model= Sequential([\n",
    "    Dense(200, activation = 'relu', input_shape=(32, 32, 3)),\n",
    "    Flatten(),\n",
    "    Dense(150, activation = 'relu'),\n",
    "    Dense(10, activation = 'softmax')\n",
    "])"
   ]
  },
  {
   "cell_type": "code",
   "execution_count": 6,
   "metadata": {},
   "outputs": [],
   "source": [
    "from keras.layers import Input, Flatten, Dense\n",
    "from keras.models import Model\n",
    "\n",
    "input_layer= Input(shape=(32,32,3))\n",
    "x= Flatten()(input_layer)\n",
    "\n",
    "x= Dense(units=200, activation='relu')(x)\n",
    "x=Dense(units=150, activation= 'relu')(x)\n",
    "\n",
    "output_layer= Dense(units=10, activation = 'softmax')(x)\n",
    "\n",
    "model= Model(input_layer , output_layer)"
   ]
  },
  {
   "cell_type": "code",
   "execution_count": 7,
   "metadata": {},
   "outputs": [
    {
     "name": "stdout",
     "output_type": "stream",
     "text": [
      "Model: \"functional_1\"\n",
      "_________________________________________________________________\n",
      "Layer (type)                 Output Shape              Param #   \n",
      "=================================================================\n",
      "input_1 (InputLayer)         [(None, 32, 32, 3)]       0         \n",
      "_________________________________________________________________\n",
      "flatten_1 (Flatten)          (None, 3072)              0         \n",
      "_________________________________________________________________\n",
      "dense_3 (Dense)              (None, 200)               614600    \n",
      "_________________________________________________________________\n",
      "dense_4 (Dense)              (None, 150)               30150     \n",
      "_________________________________________________________________\n",
      "dense_5 (Dense)              (None, 10)                1510      \n",
      "=================================================================\n",
      "Total params: 646,260\n",
      "Trainable params: 646,260\n",
      "Non-trainable params: 0\n",
      "_________________________________________________________________\n"
     ]
    }
   ],
   "source": [
    "model.summary()"
   ]
  },
  {
   "cell_type": "markdown",
   "metadata": {},
   "source": [
    "## 모델 컴파일\n",
    "### Loss Function & Optimizer\n",
    "- 손실함수\n",
    "    - MSE: 회귀, 연속적인 값 예측\n",
    "    - categorical_crossentropy: 여러 class 중 하나에 속함\n",
    "    - binary_crossentropy: 하나의 출력 유닛(이진분류), 샘플이 여러개의 클래스에 속할 수 있는(다중 레이블 분류)\n",
    "    <br><br>\n",
    "- optimizer:\n",
    "손실함수의 그레이디언트 기반으로 신경망의 가중치 업데이트. lr이 클수록 훈련한 step에서 가중치를 크게 바꿈"
   ]
  },
  {
   "cell_type": "code",
   "execution_count": 8,
   "metadata": {},
   "outputs": [],
   "source": [
    "from keras.optimizers import Adam\n",
    "opt = Adam(lr=0.0005)\n",
    "model.compile(loss='categorical_crossentropy',optimizer=opt, metrics =['accuracy'])"
   ]
  },
  {
   "cell_type": "markdown",
   "metadata": {},
   "source": [
    "## 모델 훈련"
   ]
  },
  {
   "cell_type": "code",
   "execution_count": 9,
   "metadata": {},
   "outputs": [
    {
     "name": "stdout",
     "output_type": "stream",
     "text": [
      "Epoch 1/30\n",
      "1563/1563 [==============================] - 4s 3ms/step - loss: 1.8517 - accuracy: 0.3327\n",
      "Epoch 2/30\n",
      "1563/1563 [==============================] - 4s 3ms/step - loss: 1.6697 - accuracy: 0.4016\n",
      "Epoch 3/30\n",
      "1563/1563 [==============================] - 4s 3ms/step - loss: 1.5908 - accuracy: 0.4349\n",
      "Epoch 4/30\n",
      "1563/1563 [==============================] - 4s 3ms/step - loss: 1.5364 - accuracy: 0.4546\n",
      "Epoch 5/30\n",
      "1563/1563 [==============================] - 5s 3ms/step - loss: 1.4982 - accuracy: 0.4669\n",
      "Epoch 6/30\n",
      "1563/1563 [==============================] - 5s 3ms/step - loss: 1.4656 - accuracy: 0.4782\n",
      "Epoch 7/30\n",
      "1563/1563 [==============================] - 5s 3ms/step - loss: 1.4393 - accuracy: 0.4866\n",
      "Epoch 8/30\n",
      "1563/1563 [==============================] - 5s 3ms/step - loss: 1.4145 - accuracy: 0.4956\n",
      "Epoch 9/30\n",
      "1563/1563 [==============================] - 5s 3ms/step - loss: 1.3953 - accuracy: 0.5041\n",
      "Epoch 10/30\n",
      "1563/1563 [==============================] - 5s 3ms/step - loss: 1.3785 - accuracy: 0.5102\n",
      "Epoch 11/30\n",
      "1563/1563 [==============================] - 5s 3ms/step - loss: 1.3568 - accuracy: 0.5177\n",
      "Epoch 12/30\n",
      "1563/1563 [==============================] - 5s 3ms/step - loss: 1.3420 - accuracy: 0.5205\n",
      "Epoch 13/30\n",
      "1563/1563 [==============================] - 5s 3ms/step - loss: 1.3226 - accuracy: 0.5285\n",
      "Epoch 14/30\n",
      "1563/1563 [==============================] - 5s 3ms/step - loss: 1.3138 - accuracy: 0.5314\n",
      "Epoch 15/30\n",
      "1563/1563 [==============================] - 5s 3ms/step - loss: 1.2972 - accuracy: 0.5364\n",
      "Epoch 16/30\n",
      "1563/1563 [==============================] - 5s 3ms/step - loss: 1.2864 - accuracy: 0.5419\n",
      "Epoch 17/30\n",
      "1563/1563 [==============================] - 5s 3ms/step - loss: 1.2777 - accuracy: 0.5424\n",
      "Epoch 18/30\n",
      "1563/1563 [==============================] - 5s 3ms/step - loss: 1.2638 - accuracy: 0.5514\n",
      "Epoch 19/30\n",
      "1563/1563 [==============================] - 5s 3ms/step - loss: 1.2513 - accuracy: 0.5540\n",
      "Epoch 20/30\n",
      "1563/1563 [==============================] - 5s 3ms/step - loss: 1.2421 - accuracy: 0.5577\n",
      "Epoch 21/30\n",
      "1563/1563 [==============================] - 5s 3ms/step - loss: 1.2340 - accuracy: 0.5619\n",
      "Epoch 22/30\n",
      "1563/1563 [==============================] - 5s 3ms/step - loss: 1.2258 - accuracy: 0.5639\n",
      "Epoch 23/30\n",
      "1563/1563 [==============================] - 5s 3ms/step - loss: 1.2111 - accuracy: 0.5678\n",
      "Epoch 24/30\n",
      "1563/1563 [==============================] - 5s 3ms/step - loss: 1.2067 - accuracy: 0.5694\n",
      "Epoch 25/30\n",
      "1563/1563 [==============================] - 5s 3ms/step - loss: 1.1994 - accuracy: 0.5722\n",
      "Epoch 26/30\n",
      "1563/1563 [==============================] - 5s 3ms/step - loss: 1.1899 - accuracy: 0.5763\n",
      "Epoch 27/30\n",
      "1563/1563 [==============================] - 5s 3ms/step - loss: 1.1844 - accuracy: 0.5762\n",
      "Epoch 28/30\n",
      "1563/1563 [==============================] - 5s 3ms/step - loss: 1.1783 - accuracy: 0.5789\n",
      "Epoch 29/30\n",
      "1563/1563 [==============================] - 5s 3ms/step - loss: 1.1657 - accuracy: 0.5843\n",
      "Epoch 30/30\n",
      "1563/1563 [==============================] - 5s 3ms/step - loss: 1.1653 - accuracy: 0.5849\n"
     ]
    },
    {
     "data": {
      "text/plain": [
       "<tensorflow.python.keras.callbacks.History at 0x1af0054c708>"
      ]
     },
     "execution_count": 9,
     "metadata": {},
     "output_type": "execute_result"
    }
   ],
   "source": [
    "model.fit(x_train, y_train, batch_size=32, epochs=30, shuffle=True)"
   ]
  },
  {
   "cell_type": "markdown",
   "metadata": {},
   "source": [
    "## 모델 평가\n",
    "[손실값, 정확도]"
   ]
  },
  {
   "cell_type": "code",
   "execution_count": 10,
   "metadata": {},
   "outputs": [
    {
     "name": "stdout",
     "output_type": "stream",
     "text": [
      "313/313 [==============================] - 0s 1ms/step - loss: 1.4313 - accuracy: 0.5040\n"
     ]
    },
    {
     "data": {
      "text/plain": [
       "[1.4313316345214844, 0.5040000081062317]"
      ]
     },
     "execution_count": 10,
     "metadata": {},
     "output_type": "execute_result"
    }
   ],
   "source": [
    "model.evaluate(x_test, y_test)"
   ]
  },
  {
   "cell_type": "markdown",
   "metadata": {},
   "source": [
    "### 시각화"
   ]
  },
  {
   "cell_type": "code",
   "execution_count": 11,
   "metadata": {},
   "outputs": [],
   "source": [
    "import numpy as np\n",
    "CLASSES=np.array(['airplane','automobile','bird','cat','deer','dog','frog','horse','ship','truck'])\n",
    "preds=model.predict(x_test)\n",
    "preds_single= CLASSES[np.argmax(preds, axis=-1)]\n",
    "actual_single=CLASSES[np.argmax(y_test, axis=-1)]"
   ]
  },
  {
   "cell_type": "code",
   "execution_count": 12,
   "metadata": {},
   "outputs": [
    {
     "name": "stderr",
     "output_type": "stream",
     "text": [
      "\n",
      "Bad key \"text.kerning_factor\" on line 4 in\n",
      "C:\\Users\\woojung\\anaconda3\\lib\\site-packages\\matplotlib\\mpl-data\\stylelib\\_classic_test_patch.mplstyle.\n",
      "You probably need to get an updated matplotlibrc file from\n",
      "http://github.com/matplotlib/matplotlib/blob/master/matplotlibrc.template\n",
      "or from the matplotlib source distribution\n"
     ]
    },
    {
     "data": {
      "image/png": "[encoded data removed]",
      "text/plain": [
       "<Figure size 1080x216 with 10 Axes>"
      ]
     },
     "metadata": {
      "needs_background": "light"
     },
     "output_type": "display_data"
    }
   ],
   "source": [
    "import matplotlib.pyplot as plt\n",
    "n_to_show=10\n",
    "indices = np.random.choice(range(len(x_test)), n_to_show)\n",
    "\n",
    "fig = plt.figure(figsize=(15,3))\n",
    "fig.subplots_adjust(hspace=0.4, wspace=0.4)\n",
    "\n",
    "for i, idx in enumerate(indices):\n",
    "    img= x_test[idx]\n",
    "    ax=fig.add_subplot(1, n_to_show, i+1) \n",
    "    ax.axis('off')\n",
    "    ax.text(0.5, -0.35, 'pred=' +str(preds_single[idx]), fontsize=10, ha='center',transform= ax.transAxes)\n",
    "    ax.text(0.5, -0.7, 'axt=' +str(actual_single[idx]), fontsize=10, ha='center', transform= ax.transAxes)\n",
    "    ax.imshow(img)"
   ]
  },
  {
   "cell_type": "markdown",
   "metadata": {},
   "source": [
    "# 합성곱 신경망 Convolutional Layer 사용\n",
    "\n",
    "### Conv1, Conv2 : 특징 추출\n",
    "### Flatten, Dense : 분류단\n",
    "- stride, padding 사용\n",
    "- layer크기, batch_size, epochs 사용\n",
    "- activation"
   ]
  },
  {
   "cell_type": "code",
   "execution_count": 13,
   "metadata": {},
   "outputs": [],
   "source": [
    "from keras.layers import Conv2D\n",
    "input_shape = Input(shape=(64,64,1))\n",
    "conv_layer_1 = Conv2D(filters =10, kernel_size=(3,3), strides=2, padding='same')(input_layer)\n",
    "conv_layer_2 =Conv2D(filters= 20, kernel_size=(3,3), strides =2, padding= 'same')(conv_layer_1)\n",
    "flatten_layer= Flatten()(conv_layer_2)\n",
    "output_layer= Dense(units =10, activation='softmax')(flatten_layer)\n",
    "model= Model(input_layer, output_layer)"
   ]
  },
  {
   "cell_type": "code",
   "execution_count": 14,
   "metadata": {},
   "outputs": [
    {
     "name": "stdout",
     "output_type": "stream",
     "text": [
      "Model: \"functional_3\"\n",
      "_________________________________________________________________\n",
      "Layer (type)                 Output Shape              Param #   \n",
      "=================================================================\n",
      "input_1 (InputLayer)         [(None, 32, 32, 3)]       0         \n",
      "_________________________________________________________________\n",
      "conv2d (Conv2D)              (None, 16, 16, 10)        280       \n",
      "_________________________________________________________________\n",
      "conv2d_1 (Conv2D)            (None, 8, 8, 20)          1820      \n",
      "_________________________________________________________________\n",
      "flatten_2 (Flatten)          (None, 1280)              0         \n",
      "_________________________________________________________________\n",
      "dense_6 (Dense)              (None, 10)                12810     \n",
      "=================================================================\n",
      "Total params: 14,910\n",
      "Trainable params: 14,910\n",
      "Non-trainable params: 0\n",
      "_________________________________________________________________\n"
     ]
    }
   ],
   "source": [
    "model.summary()"
   ]
  },
  {
   "cell_type": "markdown",
   "metadata": {},
   "source": [
    "### 모델 성능 향상 (과적합 막기)\n",
    "#### 배치 정규화(momentum = 0.9) 정해주기\n",
    "- 가중치를 일정한 범위 안에서 유지해주기\n",
    "- BAD(Batch_normalization, Activation, Dense)\n",
    "#### Dropout\n",
    "- 최근에는 많이 사용 안함, 배치정규화 대신 사용"
   ]
  },
  {
   "cell_type": "code",
   "execution_count": 15,
   "metadata": {},
   "outputs": [],
   "source": [
    "## 전체 Layer\n",
    "from keras.layers import BatchNormalization, LeakyReLU, Dropout, Activation\n",
    "NUM_CLASSES = 10\n",
    "input_layer = Input((32,32,3))\n",
    "\n",
    "x = Conv2D(filters = 32, kernel_size = 3, strides = 1, padding='same')(input_layer)\n",
    "x = BatchNormalization()(x)\n",
    "x = LeakyReLU()(x)\n",
    "\n",
    "x = Conv2D(filters = 32, kernel_size = 3, strides =2, padding='same')(x)\n",
    "x = BatchNormalization()(x)\n",
    "x = LeakyReLU()(x)\n",
    "\n",
    "x = Conv2D(filters = 64, kernel_size = 3, strides =1, padding='same')(x)\n",
    "x = BatchNormalization()(x)\n",
    "x = LeakyReLU()(x)\n",
    "\n",
    "x = Conv2D(filters = 64, kernel_size = 3, strides =2, padding='same')(x)\n",
    "x = BatchNormalization()(x)\n",
    "x = LeakyReLU()(x)\n",
    "\n",
    "x = Flatten()(x)\n",
    "\n",
    "x = Dense(128)(x)\n",
    "x = BatchNormalization()(x)\n",
    "x = LeakyReLU()(x)\n",
    "x = Dropout(rate=0.5)(x)\n",
    "\n",
    "x = Dense(NUM_CLASSES)(x)\n",
    "output_layer = Activation('softmax')(x)\n",
    "model = Model(input_layer, output_layer)"
   ]
  },
  {
   "cell_type": "code",
   "execution_count": 16,
   "metadata": {},
   "outputs": [
    {
     "name": "stdout",
     "output_type": "stream",
     "text": [
      "Epoch 1/10\n",
      "1563/1563 [==============================] - 110s 70ms/step - loss: 1.5511 - accuracy: 0.4554\n",
      "Epoch 2/10\n",
      "1563/1563 [==============================] - 112s 71ms/step - loss: 1.1628 - accuracy: 0.5885\n",
      "Epoch 3/10\n",
      "1563/1563 [==============================] - 114s 73ms/step - loss: 1.0182 - accuracy: 0.6422\n",
      "Epoch 4/10\n",
      "1563/1563 [==============================] - 115s 74ms/step - loss: 0.9282 - accuracy: 0.6762\n",
      "Epoch 5/10\n",
      "1563/1563 [==============================] - 116s 74ms/step - loss: 0.8661 - accuracy: 0.7010\n",
      "Epoch 6/10\n",
      "1563/1563 [==============================] - 120s 77ms/step - loss: 0.8116 - accuracy: 0.7192\n",
      "Epoch 7/10\n",
      "1563/1563 [==============================] - 124s 79ms/step - loss: 0.7671 - accuracy: 0.7347\n",
      "Epoch 8/10\n",
      "1563/1563 [==============================] - 129s 83ms/step - loss: 0.7282 - accuracy: 0.7462\n",
      "Epoch 9/10\n",
      "1563/1563 [==============================] - 137s 88ms/step - loss: 0.6979 - accuracy: 0.7548\n",
      "Epoch 10/10\n",
      "1563/1563 [==============================] - 151s 97ms/step - loss: 0.6623 - accuracy: 0.7677\n"
     ]
    },
    {
     "data": {
      "text/plain": [
       "<tensorflow.python.keras.callbacks.History at 0x1af0348d948>"
      ]
     },
     "execution_count": 16,
     "metadata": {},
     "output_type": "execute_result"
    }
   ],
   "source": [
    "from keras.optimizers import Adam\n",
    "opt = Adam(lr=0.0005)\n",
    "model.compile(loss='categorical_crossentropy',optimizer=opt, metrics =['accuracy'])\n",
    "\n",
    "model.fit(x_train, y_train, batch_size = 32, epochs =10, shuffle= True)"
   ]
  },
  {
   "cell_type": "code",
   "execution_count": 17,
   "metadata": {},
   "outputs": [
    {
     "name": "stdout",
     "output_type": "stream",
     "text": [
      "10/10 [==============================] - 4s 376ms/step - loss: 0.7857 - accuracy: 0.7311\n"
     ]
    },
    {
     "data": {
      "text/plain": [
       "[0.7857319116592407, 0.7311000227928162]"
      ]
     },
     "execution_count": 17,
     "metadata": {},
     "output_type": "execute_result"
    }
   ],
   "source": [
    "model.evaluate(x_test, y_test, batch_size =1000)"
   ]
  },
  {
   "cell_type": "code",
   "execution_count": null,
   "metadata": {},
   "outputs": [],
   "source": []
  }
 ],
 "metadata": {
  "kernelspec": {
   "display_name": "Python 3",
   "language": "python",
   "name": "python3"
  },
  "language_info": {
   "codemirror_mode": {
    "name": "ipython",
    "version": 3
   },
   "file_extension": ".py",
   "mimetype": "text/x-python",
   "name": "python",
   "nbconvert_exporter": "python",
   "pygments_lexer": "ipython3",
   "version": "3.7.6"
  }
 },
 "nbformat": 4,
 "nbformat_minor": 4
}
